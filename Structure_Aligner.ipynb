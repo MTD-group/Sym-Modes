{
 "cells": [
  {
   "cell_type": "code",
   "execution_count": 16,
   "metadata": {
    "collapsed": false
   },
   "outputs": [
    {
     "name": "stdout",
     "output_type": "stream",
     "text": [
      "GUI mode? (yes/no): yes\n",
      "Please provide parent structure cif with no modes: \n"
     ]
    }
   ],
   "source": [
    "from pymatgen import *\n",
    "import Tkinter as tk\n",
    "import tkFileDialog\n",
    "import tkSimpleDialog\n",
    "\n",
    "while True:\n",
    "    try:\n",
    "        guimode = raw_input(\"GUI mode? (yes/no): \")\n",
    "    except ValueError:\n",
    "        print(\"Sorry, I didn't understand that.\")\n",
    "        continue\n",
    "    if guimode.lower() in ('yes', 'y', 'no', 'n'):\n",
    "        break\n",
    "    else:\n",
    "        print('Please enter yes or no')\n",
    "\n",
    "# Read in cif files for structures without and with modes\n",
    "if guimode:\n",
    "    print(\"Please provide parent structure cif with no modes: \")\n",
    "    file_path = tkFileDialog.askopenfilename(title=\"parent structure cif\")\n",
    "    no_modes = Structure.from_file(file_path)\n",
    "    numberomodes = tkSimpleDialog.askinteger('Number of Modes', 'Please enter number of modes to interpolate (1-3): '\\\n",
    "                  ,minvalue=1, maxvalue=3)\n",
    "    \n",
    "    file_path_mode1 = tkFileDialog.askopenfilename(title=\"Cif with 100% of your desired mode\")\n",
    "    mode = Structure.from_file(file_path_mode1)\n",
    "    \n",
    "    if numberomodes >= 2:\n",
    "        print(\"Please provide cif with 100% of your second desired mode: \")\n",
    "        file_path_mode2 = tkFileDialog.askopenfilename(title=\"Cif with 100% of your second desired mode\")\n",
    "        mode2 = Structure.from_file(file_path_mode2)\n",
    "    if numberomodes == 3:\n",
    "        print(\"Please provide cif with 100% of your third desired mode: \")\n",
    "        file_path_mode3 = tkFileDialog.askopenfilename(title=\"Cif with 100% of your third desired mode\")\n",
    "        mode3 = Structure.from_file(file_path_mode3)\n",
    "else:\n",
    "    file_path = raw_input(\"Please provide parent structure cif with no modes: \")\n",
    "    no_modes = Structure.from_file(file_path)\n",
    "    numberomodes = int(raw_input(\"Please enter number of modes to interpolate (1-3): \"))\n",
    "    \n",
    "    file_path_mode1 = raw_input(\"Please cif with 100% of your desired mode: \")\n",
    "    mode = Structure.from_file(file_path_mode1)\n",
    "    \n",
    "    if numberomodes >= 2:\n",
    "        file_path_mode2 = raw_input(\"Please cif with 100% of your second desired mode: \")\n",
    "    if numberomodes == 3:\n",
    "        file_path_mode3 = raw_input(\"Please cif with 100% of your third desired mode: \")"
   ]
  },
  {
   "cell_type": "code",
   "execution_count": 10,
   "metadata": {
    "collapsed": false,
    "scrolled": false
   },
   "outputs": [],
   "source": [
    "from pymatgen.analysis.structure_matcher import *\n",
    "matchy = StructureMatcher(primitive_cell=False, attempt_supercell=True, scale=False)\n",
    "matchy.fit(mode, no_modes)\n",
    "\n",
    "trans_mode = matchy.get_s2_like_s1(mode, no_modes) # Arranges atoms in 2nd str to be similar to 1st str\n",
    "trans_mode.modify_lattice(mode.lattice)        # Adjusts lattice parameters so that long axis is in same direction\n",
    "\n",
    "if numberomodes >= 2:\n",
    "    matchy = StructureMatcher(primitive_cell=False, scale=False, attempt_supercell=True)\n",
    "    matchy.fit(mode2, no_modes)\n",
    "    trans_mode2 = matchy.get_s2_like_s1(mode2, no_modes) # Arranges atoms in 2nd str to be similar to 1st str\n",
    "    trans_mode2.modify_lattice(no_modes.lattice)\n",
    "\n",
    "if numberomodes == 3:\n",
    "    matchy = StructureMatcher(primitive_cell=False, scale=False, attempt_supercell=True)\n",
    "    matchy.fit(mode3, no_modes)\n",
    "    trans_mode3 = matchy.get_s2_like_s1(mode3, no_modes) # Arranges atoms in 2nd str to be similar to 1st str\n",
    "    trans_mode3.modify_lattice(no_modes.lattice)"
   ]
  },
  {
   "cell_type": "code",
   "execution_count": 11,
   "metadata": {
    "collapsed": false
   },
   "outputs": [],
   "source": [
    "import operator, pprint\n",
    "nm_coords = trans_mode.frac_coords\n",
    "mode_coords = mode.frac_coords\n",
    "subby = []\n",
    "for atom_index in range(0, len(nm_coords)):\n",
    "    subby.append([])\n",
    "    for coord_index in range(0, 3):\n",
    "        subby[atom_index].append(mode_coords[atom_index][coord_index]-nm_coords[atom_index][coord_index])\n",
    "\n",
    "if numberomodes >= 2:        \n",
    "    mode2_coords = trans_mode2.frac_coords\n",
    "    subby2 = []\n",
    "    for atom_index in range(0, len(nm_coords)):\n",
    "        subby2.append([])\n",
    "        for coord_index in range(0, 3):\n",
    "            subby2[atom_index].append(mode2_coords[atom_index][coord_index]-nm_coords[atom_index][coord_index])\n",
    "        \n",
    "if numberomodes == 3:        \n",
    "    mode3_coords = trans_mode3.frac_coords\n",
    "    subby3 = []\n",
    "    for atom_index in range(0, len(nm_coords)):\n",
    "        subby3.append([])\n",
    "        for coord_index in range(0, 3):\n",
    "            subby3[atom_index].append(mode3_coords[atom_index][coord_index]-nm_coords[atom_index][coord_index])\n",
    "        \n",
    "pp = pprint.PrettyPrinter()"
   ]
  },
  {
   "cell_type": "code",
   "execution_count": 14,
   "metadata": {
    "collapsed": false
   },
   "outputs": [
    {
     "name": "stdout",
     "output_type": "stream",
     "text": [
      "False\n"
     ]
    }
   ],
   "source": [
    "if not guimode:\n",
    "    print('True')\n",
    "else:\n",
    "    print('False')"
   ]
  },
  {
   "cell_type": "code",
   "execution_count": 18,
   "metadata": {
    "collapsed": false,
    "scrolled": false
   },
   "outputs": [
    {
     "name": "stdout",
     "output_type": "stream",
     "text": [
      "Enter output directory\n"
     ]
    }
   ],
   "source": [
    "from pymatgen.io.vasp import Poscar\n",
    "import copy\n",
    "\n",
    "intervals = 10 \n",
    "increment = 1.0 / intervals\n",
    "\n",
    "if guimode:\n",
    "    mode_filename=tkSimpleDialog.askstring('Mode Name','''Enter your mode's name''')\n",
    "    if numberomodes >= 2:\n",
    "        mode2_filename = tkSimpleDialog.askstring('2nd Mode Name','''Enter your second mode's name''')\n",
    "    if numberomodes == 3:\n",
    "        mode3_filename = tkSimpleDialog.askstring('3rd Mode Name','''Enter your third mode's name''')\n",
    "    \n",
    "    print('Enter output directory')\n",
    "    output_path = tkFileDialog.askdirectory(title='Enter output directory')\n",
    "    \n",
    "    \n",
    "else:     \n",
    "    mode_filename = raw_input(\"Please enter first mode label: \")\n",
    "\n",
    "    if numberomodes >= 2:\n",
    "        mode2_filename = raw_input(\"Please enter second mode label: \")\n",
    "    if numberomodes == 3:\n",
    "        mode3_filename = raw_input(\"Please enter third mode label: \")\n",
    "\n",
    "    output_path = raw_input(\"Please enter output directory: \")\n",
    "\n",
    "\n",
    "if numberomodes == 1:\n",
    "    for interval in range(1, intervals+1):\n",
    "        ccopy = copy.copy(trans_mode)\n",
    "        species = ccopy.species\n",
    "        subs = ccopy.frac_coords\n",
    "\n",
    "        for atom in range(0, len(subby)):\n",
    "            for coord in range(0, 3):\n",
    "                subs[atom][coord] = subby[atom][coord] * interval * increment + nm_coords[atom][coord]\n",
    "\n",
    "        # Add displacement to zero modes structure\n",
    "        index = range(0, len(species))\n",
    "        for i in index:\n",
    "            ccopy.replace(i, species[i], coords=subs[i])\n",
    "\n",
    "        # Export to POSCAR\n",
    "        struct = Poscar(ccopy)\n",
    "        value = increment*100*interval\n",
    "        struct.write_file(output_path+\"/%s_%s%%.vasp\" % (mode_filename, value)) #e.g. 'Y2+_100%'\n",
    "    \n",
    "if numberomodes == 2:\n",
    "    for interval2 in range(0, intervals + 1):\n",
    "        for interval in range(0, intervals+1):\n",
    "            ccopy = copy.copy(trans_mode2)\n",
    "            species = ccopy.species\n",
    "            subs = ccopy.frac_coords\n",
    "\n",
    "            for atom in range(0, len(subby)):\n",
    "                for coord in range(0, 3):\n",
    "                    subs[atom][coord] = subby[atom][coord] * interval * increment + \\\n",
    "                                        subby2[atom][coord] * interval2 * increment + nm_coords[atom][coord]\n",
    "\n",
    "            # Add displacement to zero modes structure\n",
    "            index = range(0, len(species))\n",
    "            for i in index:\n",
    "                ccopy.replace(i, species[i], coords=subs[i])\n",
    "\n",
    "            # Export to POSCAR\n",
    "            struct = Poscar(ccopy)\n",
    "            value = increment*100*interval\n",
    "            value2 = increment*100*interval2\n",
    "            struct.write_file(output_path+\"/%s_%s%%_%s_%s%%.vasp\" % (mode2_filename, value2, mode_filename, value))\n",
    "    \n",
    "if numberomodes == 3:\n",
    "    for interval3 in range(0, intervals +1):\n",
    "        for interval2 in range(0, intervals + 1):\n",
    "            for interval in range(0, intervals+1):\n",
    "                ccopy = copy.copy(trans_mode3)\n",
    "                species = ccopy.species\n",
    "                subs = ccopy.frac_coords\n",
    "\n",
    "                for atom in range(0, len(subby)):\n",
    "                    for coord in range(0, 3):\n",
    "                        subs[atom][coord] = subby[atom][coord] * interval * increment + \\\n",
    "                                            subby2[atom][coord] * interval2 * increment + \\\n",
    "                                            subby3[atom][coord] * interval3 * increment + nm_coords[atom][coord]\n",
    "\n",
    "                # Add displacement to zero modes structure\n",
    "                index = range(0, len(species))\n",
    "                for i in index:\n",
    "                    ccopy.replace(i, species[i], coords=subs[i])\n",
    "\n",
    "                # Export to POSCAR\n",
    "                struct = Poscar(ccopy)\n",
    "                value = increment*100*interval\n",
    "                value2 = increment*100*interval2\n",
    "                value3 = increment*100*interval3\n",
    "                struct.write_file(output_path+\"/%s_%s%%_%s_%s%%_%s_%s%%.vasp\" % (mode3_filename, value3, \\\n",
    "                                                            mode2_filename, value2, mode_filename, value))    "
   ]
  }
 ],
 "metadata": {
  "kernelspec": {
   "display_name": "Python 2",
   "language": "python",
   "name": "python2"
  },
  "language_info": {
   "codemirror_mode": {
    "name": "ipython",
    "version": 2
   },
   "file_extension": ".py",
   "mimetype": "text/x-python",
   "name": "python",
   "nbconvert_exporter": "python",
   "pygments_lexer": "ipython2",
   "version": "2.7.6"
  }
 },
 "nbformat": 4,
 "nbformat_minor": 0
}
