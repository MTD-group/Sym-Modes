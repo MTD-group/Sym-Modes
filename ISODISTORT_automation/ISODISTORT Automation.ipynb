{
 "cells": [
  {
   "cell_type": "markdown",
   "metadata": {},
   "source": [
    "# ISODISTORT Automation\n",
    "by Nicholas Wagner 2016-03-21"
   ]
  },
  {
   "cell_type": "markdown",
   "metadata": {},
   "source": [
    "We begin by creating a set of parent structures to be used with ISODISTORT from our starting cifs"
   ]
  },
  {
   "cell_type": "code",
   "execution_count": 1,
   "metadata": {
    "collapsed": false
   },
   "outputs": [],
   "source": [
    "# Test case: assume we have parent structures already in a directory\n",
    "# from pymatgen import * # Used to edit structure files\n",
    "from os import listdir\n",
    "from os.path import isfile, join, abspath\n",
    "\n",
    "\n",
    "# Get list of paths to parent cif files for feeding into ISODISTORT\n",
    "onlyparents = [f for f in listdir(\"./\") if isfile(join(\"./\", f)) and 'parent' in f]\n",
    "parent_paths = []\n",
    "for element in onlyparents:\n",
    "    parent_paths.append(abspath(element))\n",
    "parent_paths.sort()    \n",
    "    \n",
    "    \n",
    "onlychildren = [f for f in listdir(\"./\") if isfile(join(\"./\", f)) and 'parent' not in f and 'cif' in f]\n",
    "child_paths = []\n",
    "for element in onlychildren:\n",
    "    child_paths.append(abspath(element))\n",
    "child_paths.sort()"
   ]
  },
  {
   "cell_type": "markdown",
   "metadata": {},
   "source": [
    "## Next, we upload our parent structure to ISODISTORT and select \"OK\""
   ]
  },
  {
   "cell_type": "code",
   "execution_count": 2,
   "metadata": {
    "collapsed": false
   },
   "outputs": [],
   "source": [
    "### Use pyautogui to perform clicking and keyboard actions\n",
    "import pyautogui, sys\n",
    "from selenium import webdriver\n",
    "from selenium.common.exceptions import NoSuchElementException\n",
    "from selenium.webdriver.common.keys import Keys\n",
    "from selenium.webdriver.common.action_chains import ActionChains\n",
    "import time\n",
    "\n",
    "# First page where you upload parent\n",
    "pyautogui.PAUSE = 0.4\n",
    "browser = webdriver.Firefox() # Get local session of firefox\n",
    "browser.get(\"http://stokes.byu.edu/iso/isodistort.php\") # Load page\n",
    "actions = ActionChains(browser)\n",
    "select_parent_button = browser.find_element_by_name(\"toProcess\")\n",
    "select_parent_button.click()\n",
    "\n",
    "# File dialog on first page\n",
    "pyautogui.hotkey('ctrl', 'l')\n",
    "pyautogui.typewrite(parent_paths[0])\n",
    "pyautogui.press(\"enter\")\n",
    "elem = browser.find_element_by_class_name(\"btn.btn-primary\")\n",
    "time.sleep(0.2)\n",
    "elem.click()"
   ]
  },
  {
   "cell_type": "code",
   "execution_count": 3,
   "metadata": {
    "collapsed": false
   },
   "outputs": [],
   "source": [
    "# Second page where you upload child cif\n",
    "time.sleep(3)\n",
    "select_child_button = browser.find_element_by_name(\"toProcess\")\n",
    "select_child_button.click()\n",
    "time.sleep(0.5)\n",
    "pyautogui.typewrite(child_paths[0])\n",
    "pyautogui.press(\"enter\")\n",
    "time.sleep(0.5)\n",
    "elems = browser.find_elements_by_class_name(\"btn-primary\")\n",
    "window_before = browser.window_handles[0]\n",
    "elems[6].click()\n",
    "time.sleep(3)"
   ]
  },
  {
   "cell_type": "code",
   "execution_count": 4,
   "metadata": {
    "collapsed": true
   },
   "outputs": [],
   "source": [
    "# Third page where you select bases\n",
    "window_after=browser.window_handles[1]\n",
    "browser.close()\n",
    "browser.switch_to_window(window_after)\n",
    "bases = browser.find_element_by_name(\"basisselect\")\n",
    "bases.click()\n",
    "pyautogui.press(\"down\")\n",
    "pyautogui.press(\"enter\")\n",
    "ok_button = browser.find_element_by_class_name(\"btn-primary\")\n",
    "ok_button.click()\n",
    "time.sleep(2)"
   ]
  },
  {
   "cell_type": "code",
   "execution_count": 5,
   "metadata": {
    "collapsed": false
   },
   "outputs": [],
   "source": [
    "# Final page. Time to get mode details\n",
    "radio_buttons = browser.find_elements_by_name(\"origintype\")\n",
    "radio_buttons[6].click()\n",
    "ok_button = browser.find_element_by_class_name(\"btn-primary\")\n",
    "ok_button.click()\n",
    "time.sleep(3)\n",
    "browser.switch_to.window(browser.window_handles[1])\n",
    "html = browser.page_source\n",
    "browser.quit()"
   ]
  },
  {
   "cell_type": "code",
   "execution_count": 6,
   "metadata": {
    "collapsed": false
   },
   "outputs": [],
   "source": [
    "# Scrape mode details\n",
    "from bs4 import BeautifulSoup\n",
    "\n",
    "soup = BeautifulSoup(html, \"lxml\")"
   ]
  },
  {
   "cell_type": "code",
   "execution_count": 7,
   "metadata": {
    "collapsed": false,
    "scrolled": false
   },
   "outputs": [
    {
     "name": "stdout",
     "output_type": "stream",
     "text": [
      "\n",
      "[1/2,1/2,1/2]R3+[O1:d:dsp]A2u(a)    0.09401   0.04700  0.03324\n",
      "[1/2,1/2,1/2]R3+  all               0.09401  0.04700\n",
      " \n",
      "[1/2,1/2,1/2]R4+[O1:d:dsp]Eu(a)    -1.29378  -0.64689  0.45742\n",
      "[1/2,1/2,1/2]R4+[O1:d:dsp]Eu(b)    -0.00894  -0.00447  0.00316\n",
      "[1/2,1/2,1/2]R4+  all               1.29381  0.64691\n",
      " \n",
      "[1/2,1/2,1/2]R5+[La1:b:dsp]T1u(a)  -0.11706  -0.05853  0.05853\n",
      "[1/2,1/2,1/2]R5+[O1:d:dsp]Eu(a)     0.04720   0.02360  0.01669\n",
      "[1/2,1/2,1/2]R5+  all               0.12622  0.06311\n",
      " \n",
      "[0,1/2,0]X1+[La1:b:dsp]T1u(a)      -0.00204  -0.00102  0.00102\n",
      "[0,1/2,0]X1+[O1:d:dsp]A2u(a)        0.00236   0.00118  0.00118\n",
      "[0,1/2,0]X1+  all                   0.00312  0.00156\n",
      " \n",
      "[0,1/2,0]X5+[La1:b:dsp]T1u(a)       0.48010   0.24005  0.24005\n",
      "[0,1/2,0]X5+[O1:d:dsp]Eu(a)         0.17247   0.08624  0.08623\n",
      "[0,1/2,0]X5+  all                   0.51014  0.25507\n",
      " \n",
      "[1/2,1/2,0]M2+[O1:d:dsp]A2u(a)      0.00550   0.00275  0.00194\n",
      "[1/2,1/2,0]M2+  all                 0.00550  0.00275\n",
      " \n",
      "[1/2,1/2,0]M3+[O1:d:dsp]Eu(a)       0.88519   0.44260  0.31296\n",
      "[1/2,1/2,0]M3+  all                 0.88519  0.44260\n",
      " \n",
      "[1/2,1/2,0]M5+[O1:d:dsp]Eu(a)      -0.00644  -0.00322  0.00228\n",
      "[1/2,1/2,0]M5+  all                 0.00644  0.00322\n",
      " \n",
      "Overall                             1.65608  0.82804\n",
      " \n",
      "\n"
     ]
    }
   ],
   "source": [
    "# Move through html to find mode amplitudes\n",
    "found_text = []\n",
    "for i, x in enumerate(soup.find(\"b\").nextSiblingGenerator()):\n",
    "    if i == 20:\n",
    "        found_text.append(x)\n",
    "    elif 'b/' in x:\n",
    "        i+=1\n",
    "        break\n",
    "    else:\n",
    "        continue\n",
    "found_text = found_text[0].split(\"\\n\")\n",
    "for x in found_text:\n",
    "    print(x)"
   ]
  },
  {
   "cell_type": "code",
   "execution_count": 8,
   "metadata": {
    "collapsed": false
   },
   "outputs": [],
   "source": [
    "# Strip out text before irrep label\n",
    "for i, x in enumerate(found_text):\n",
    "    if ']' in found_text[i]:\n",
    "        found_text[i] = ''.join(x.split(\"]\")[1:])\n",
    "    found_text[i] = found_text[i].split(\" \")\n",
    "    found_text[i] = list(filter(None, found_text[i]))\n",
    "    for j in range(len(found_text[i])):\n",
    "        if '[' in found_text[i][j]:\n",
    "            temp = found_text[i][j].split(\"[\")\n",
    "            found_text[i].insert(1, temp[1])\n",
    "            found_text[i][j] = temp[0]\n",
    "found_text = [x for x in found_text if x != []]"
   ]
  },
  {
   "cell_type": "code",
   "execution_count": 9,
   "metadata": {
    "collapsed": false
   },
   "outputs": [
    {
     "name": "stdout",
     "output_type": "stream",
     "text": [
      "{'R3+': {'Ap': 0.047}, 'R4+': {'Ap': 0.64691}, 'R5+': {'Ap': 0.06311}, 'X1+': {'Ap': 0.00156}, 'X5+': {'Ap': 0.25507}, 'M2+': {'Ap': 0.00275}, 'M3+': {'Ap': 0.4426}, 'M5+': {'Ap': 0.00322}}\n"
     ]
    }
   ],
   "source": [
    "# Gather only 'all' mode amplitude in parent setting for each mode\n",
    "mode_amps = {}\n",
    "for x in found_text:\n",
    "    if 'all' in x[1]:\n",
    "        mode_amps[x[0]] = {'Ap': float(x[3])}\n",
    "print(mode_amps)"
   ]
  },
  {
   "cell_type": "code",
   "execution_count": 10,
   "metadata": {
    "collapsed": false
   },
   "outputs": [
    {
     "data": {
      "text/html": [
       "<div>\n",
       "<table border=\"1\" class=\"dataframe\">\n",
       "  <thead>\n",
       "    <tr style=\"text-align: right;\">\n",
       "      <th></th>\n",
       "      <th>M2+</th>\n",
       "      <th>M3+</th>\n",
       "      <th>M5+</th>\n",
       "      <th>R3+</th>\n",
       "      <th>R4+</th>\n",
       "      <th>R5+</th>\n",
       "      <th>X1+</th>\n",
       "      <th>X5+</th>\n",
       "    </tr>\n",
       "  </thead>\n",
       "  <tbody>\n",
       "    <tr>\n",
       "      <th>Ap</th>\n",
       "      <td>0.00275</td>\n",
       "      <td>0.4426</td>\n",
       "      <td>0.00322</td>\n",
       "      <td>0.047</td>\n",
       "      <td>0.64691</td>\n",
       "      <td>0.06311</td>\n",
       "      <td>0.00156</td>\n",
       "      <td>0.25507</td>\n",
       "    </tr>\n",
       "  </tbody>\n",
       "</table>\n",
       "</div>"
      ],
      "text/plain": [
       "        M2+     M3+      M5+    R3+      R4+      R5+      X1+      X5+\n",
       "Ap  0.00275  0.4426  0.00322  0.047  0.64691  0.06311  0.00156  0.25507"
      ]
     },
     "execution_count": 10,
     "metadata": {},
     "output_type": "execute_result"
    }
   ],
   "source": [
    "import pandas as pd\n",
    "df = pd.DataFrame.from_dict(mode_amps)\n",
    "df"
   ]
  }
 ],
 "metadata": {
  "kernelspec": {
   "display_name": "Python 3",
   "language": "python",
   "name": "python3"
  },
  "language_info": {
   "codemirror_mode": {
    "name": "ipython",
    "version": 3
   },
   "file_extension": ".py",
   "mimetype": "text/x-python",
   "name": "python",
   "nbconvert_exporter": "python",
   "pygments_lexer": "ipython3",
   "version": "3.6.0"
  }
 },
 "nbformat": 4,
 "nbformat_minor": 0
}
