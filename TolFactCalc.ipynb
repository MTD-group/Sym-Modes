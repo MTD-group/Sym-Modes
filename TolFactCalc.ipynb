{
 "cells": [
  {
   "cell_type": "code",
   "execution_count": 36,
   "metadata": {
    "collapsed": false
   },
   "outputs": [],
   "source": [
    "# A script to calculate tolerance factors of ABX3 perovskites using bond valences from 2016\n",
    "# Data from the International Union of Crystallography\n",
    "# Author: Nick Wagner\n",
    "import pandas as pd\n",
    "import numpy as np"
   ]
  },
  {
   "cell_type": "code",
   "execution_count": 37,
   "metadata": {
    "collapsed": false
   },
   "outputs": [
    {
     "data": {
      "text/html": [
       "<div>\n",
       "<table border=\"1\" class=\"dataframe\">\n",
       "  <thead>\n",
       "    <tr style=\"text-align: right;\">\n",
       "      <th></th>\n",
       "      <th>Atom1</th>\n",
       "      <th>Atom1_valence</th>\n",
       "      <th>Atom2</th>\n",
       "      <th>Atom2_valence</th>\n",
       "      <th>Ro</th>\n",
       "      <th>B</th>\n",
       "      <th>ref_id</th>\n",
       "    </tr>\n",
       "  </thead>\n",
       "  <tbody>\n",
       "    <tr>\n",
       "      <th>0</th>\n",
       "      <td>Ac</td>\n",
       "      <td>3</td>\n",
       "      <td>O</td>\n",
       "      <td>-2</td>\n",
       "      <td>2.240</td>\n",
       "      <td>0.370</td>\n",
       "      <td>b</td>\n",
       "    </tr>\n",
       "    <tr>\n",
       "      <th>1</th>\n",
       "      <td>Ac</td>\n",
       "      <td>3</td>\n",
       "      <td>F</td>\n",
       "      <td>-1</td>\n",
       "      <td>2.130</td>\n",
       "      <td>0.370</td>\n",
       "      <td>b</td>\n",
       "    </tr>\n",
       "    <tr>\n",
       "      <th>2</th>\n",
       "      <td>Ac</td>\n",
       "      <td>3</td>\n",
       "      <td>Cl</td>\n",
       "      <td>-1</td>\n",
       "      <td>2.630</td>\n",
       "      <td>0.370</td>\n",
       "      <td>b</td>\n",
       "    </tr>\n",
       "    <tr>\n",
       "      <th>3</th>\n",
       "      <td>Ac</td>\n",
       "      <td>3</td>\n",
       "      <td>Br</td>\n",
       "      <td>-1</td>\n",
       "      <td>2.750</td>\n",
       "      <td>0.400</td>\n",
       "      <td>p</td>\n",
       "    </tr>\n",
       "    <tr>\n",
       "      <th>4</th>\n",
       "      <td>Ag</td>\n",
       "      <td>1</td>\n",
       "      <td>O</td>\n",
       "      <td>-2</td>\n",
       "      <td>1.875</td>\n",
       "      <td>0.359</td>\n",
       "      <td>bs</td>\n",
       "    </tr>\n",
       "  </tbody>\n",
       "</table>\n",
       "</div>"
      ],
      "text/plain": [
       "  Atom1  Atom1_valence Atom2  Atom2_valence     Ro      B ref_id\n",
       "0    Ac              3     O             -2  2.240  0.370      b\n",
       "1    Ac              3     F             -1  2.130  0.370      b\n",
       "2    Ac              3    Cl             -1  2.630  0.370      b\n",
       "3    Ac              3    Br             -1  2.750  0.400      p\n",
       "4    Ag              1     O             -2  1.875  0.359     bs"
      ]
     },
     "execution_count": 37,
     "metadata": {},
     "output_type": "execute_result"
    }
   ],
   "source": [
    "bv = pd.read_csv(\"../Bond_valences2016.csv\")\n",
    "bv.head()"
   ]
  },
  {
   "cell_type": "code",
   "execution_count": 41,
   "metadata": {
    "collapsed": false
   },
   "outputs": [],
   "source": [
    "def calc_tol_factor(ion_list, valence_list):\n",
    "    if len(ion_list) != 3:\n",
    "        print(\"WARNING: Is this an ABX3 perovskite?\")\n",
    "    for i in range(len(valence_list)):\n",
    "        if valence_list[i][-1] == '-':\n",
    "            valence_list[i] = valence_list[i][-1] + valence_list[i][:-1]\n",
    "    for i in range(len(valence_list)):\n",
    "        valence_list[i] = int(valence_list[i].strip(\"+\"))\n",
    "\n",
    "    \n",
    "    AO_row = bv[(bv['Atom1'] == ion_list[0]) & (bv['Atom1_valence'] == valence_list[0])\n",
    "                  & (bv['Atom2'] == ion_list[2]) & (bv['Atom2_valence'] == valence_list[2])]\n",
    "    BO_row = bv[(bv['Atom1'] == ion_list[1]) & (bv['Atom1_valence'] == valence_list[1])\n",
    "                  & (bv['Atom2'] == ion_list[2]) & (bv['Atom2_valence'] == valence_list[2])]\n",
    "    avg_AO_row = AO_row.mean(axis=0) # If multiple values exist, take average\n",
    "    avg_BO_row = BO_row.mean(axis=0)\n",
    "    \n",
    "    AO_bv = avg_AO_row['Ro']-avg_AO_row['B'] * np.log(avg_AO_row['Atom1_valence']/12)\n",
    "    BO_bv = avg_BO_row['Ro']-avg_BO_row['B'] * np.log(avg_BO_row['Atom1_valence']/6)               \n",
    "      \n",
    "    tol_fact = AO_bv / (2**0.5 * BO_bv)\n",
    "    \n",
    "    return tol_fact\n"
   ]
  },
  {
   "cell_type": "code",
   "execution_count": 46,
   "metadata": {
    "collapsed": false
   },
   "outputs": [
    {
     "name": "stdout",
     "output_type": "stream",
     "text": [
      "1.09738895723\n"
     ]
    }
   ],
   "source": [
    "# Test using BaMnO3\n",
    "print(calc_tol_factor(['Ba', 'Mn','O'], ['2+', '4+', '2-']))"
   ]
  }
 ],
 "metadata": {
  "kernelspec": {
   "display_name": "Python 3",
   "language": "python",
   "name": "python3"
  },
  "language_info": {
   "codemirror_mode": {
    "name": "ipython",
    "version": 3
   },
   "file_extension": ".py",
   "mimetype": "text/x-python",
   "name": "python",
   "nbconvert_exporter": "python",
   "pygments_lexer": "ipython3",
   "version": "3.6.0"
  }
 },
 "nbformat": 4,
 "nbformat_minor": 2
}
